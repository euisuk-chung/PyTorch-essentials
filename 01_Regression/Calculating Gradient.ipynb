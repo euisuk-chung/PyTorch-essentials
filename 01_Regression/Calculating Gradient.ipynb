{
 "cells": [
  {
   "cell_type": "markdown",
   "id": "ce09a82b",
   "metadata": {},
   "source": [
    "# 파이토치 경사하강법\n",
    "\n",
    "- 기울기 계산 연습\n",
    "\n",
    "$$z = 2x^{2}+3$$"
   ]
  },
  {
   "cell_type": "code",
   "execution_count": 6,
   "id": "fc6f9dd0",
   "metadata": {},
   "outputs": [],
   "source": [
    "import torch\n",
    "import warnings\n",
    "warnings.filterwarnings(\"ignore\")"
   ]
  },
  {
   "cell_type": "markdown",
   "id": "fe4a314a",
   "metadata": {},
   "source": [
    "- `requires_grad`함수는 텐서에 대한 기울기 값을 저장할지 여부를 경정"
   ]
  },
  {
   "cell_type": "code",
   "execution_count": 7,
   "id": "65ae7ca2",
   "metadata": {},
   "outputs": [],
   "source": [
    "# x를 [2.0,3.0]의 값을 가진 텐서로 초기화 해주고 기울기 계산을 True로 켜 놓습니다. \n",
    "\n",
    "x = torch.tensor(data=[2.0,3.0],requires_grad=True)\n",
    "y = x**2\n",
    "z = 2*y +3"
   ]
  },
  {
   "cell_type": "code",
   "execution_count": 8,
   "id": "b8cfd92d",
   "metadata": {},
   "outputs": [
    {
     "name": "stdout",
     "output_type": "stream",
     "text": [
      "tensor([ 8., 12.]) None None\n"
     ]
    }
   ],
   "source": [
    "# https://pytorch.org/docs/stable/autograd.html?highlight=backward#torch.autograd.backward\n",
    "\n",
    "# 목표값을 지정합니다. \n",
    "target = torch.tensor([3.0,4.0])\n",
    "\n",
    "# z와 목표값의 절대값 차이를 계산합니다. \n",
    "# backward는 스칼라 값에 대해서 동작하기 때문에 길이 2짜리 텐서인 loss를 torch.sum을 통해 하나의 숫자로 바꿔줍니다.\n",
    "loss = torch.sum(torch.abs(z-target))\n",
    "\n",
    "# 그리고 스칼라 값이 된 loss에 대해 backward를 적용합니다.\n",
    "loss.backward()\n",
    "\n",
    "# loss.backward()호출 시 연산 그래프를 따라가면서 leaf node에 대한 기울기를 계산합니다.\n",
    "print(x.grad, y.grad, z.grad)\n",
    "# 여기서 y와 z는 기울기가 None으로 나오는데 이는 y,z가 leaf node가 아니기 때문입니다."
   ]
  },
  {
   "cell_type": "code",
   "execution_count": null,
   "id": "28dfe021",
   "metadata": {},
   "outputs": [],
   "source": []
  }
 ],
 "metadata": {
  "kernelspec": {
   "display_name": "Python 3",
   "language": "python",
   "name": "python3"
  },
  "language_info": {
   "codemirror_mode": {
    "name": "ipython",
    "version": 3
   },
   "file_extension": ".py",
   "mimetype": "text/x-python",
   "name": "python",
   "nbconvert_exporter": "python",
   "pygments_lexer": "ipython3",
   "version": "3.6.9"
  }
 },
 "nbformat": 4,
 "nbformat_minor": 5
}
