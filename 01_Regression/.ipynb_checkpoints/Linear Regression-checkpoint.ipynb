{
 "cells": [
  {
   "cell_type": "markdown",
   "metadata": {
    "colab_type": "text",
    "id": "QJTsOFV5LZj1"
   },
   "source": [
    "# 선형 회귀 (Linear Regression)\n",
    "\n",
    "- 선형 관계를 가지고 있는 데이터 (Linear Data)\n",
    "- 선형 모델 (Linear Model)\n",
    "\n",
    "$$y = 2x+3$$"
   ]
  },
  {
   "cell_type": "markdown",
   "metadata": {
    "colab_type": "text",
    "id": "-7pum8kHpo4Q"
   },
   "source": [
    "## 필요한 라이브러리를 불러옵니다."
   ]
  },
  {
   "cell_type": "code",
   "execution_count": 1,
   "metadata": {
    "colab": {},
    "colab_type": "code",
    "id": "9l5PEorHLbLk"
   },
   "outputs": [],
   "source": [
    "# 넘파이와 파이토치를 불러옵니다.\n",
    "import numpy as np\n",
    "import torch\n",
    "\n",
    "# Neural Network의 약자로 인공신경망 연산들이 들어가 있습니다. (ex. Linear, Convolution, RNN 등등)\n",
    "import torch.nn as nn           \n",
    "\n",
    "# 모델을 최적화 하는데 필요한 최적화 함수들이 들어가 있습니다 (ex. SGD, ADAM, LBFGS 등등)\n",
    "import torch.optim as optim\n",
    "\n",
    "# 텐서를 초기화 하는 함수들이 들어가 있습니다. (ex. uniform, normal, xavier 등등)\n",
    "import torch.nn.init as init\n",
    "\n",
    "# 데이터나 학습 결과를 출력하기 위해 사용합니다.\n",
    "import matplotlib.pyplot as plt"
   ]
  },
  {
   "cell_type": "markdown",
   "metadata": {
    "colab_type": "text",
    "id": "BLS6gONcps1j"
   },
   "source": [
    "## 데이터 생성"
   ]
  },
  {
   "cell_type": "code",
   "execution_count": 2,
   "metadata": {
    "colab": {},
    "colab_type": "code",
    "id": "G1gE7iPuLdl8"
   },
   "outputs": [],
   "source": [
    "# 데이터의 개수는 1000개, 학습 횟수는 500회로 지정해줍니다. \n",
    "num_data = 1000 \n",
    "num_epoch = 500"
   ]
  },
  {
   "cell_type": "code",
   "execution_count": 3,
   "metadata": {},
   "outputs": [
    {
     "data": {
      "text/plain": [
       "tensor([[ 0.5618],\n",
       "        [-6.0877],\n",
       "        [ 5.7963],\n",
       "        [ 1.8579],\n",
       "        [ 6.9113]])"
      ]
     },
     "execution_count": 3,
     "metadata": {},
     "output_type": "execute_result"
    }
   ],
   "source": [
    "# x 는 -10에서 10에서 uniform 하게 생성합니다. \n",
    "# 이렇게 되면 x는 1000x1 형태를 가지고 -10에서 10 사이의 값들을 uniform 하게 갖게 됩니다.\n",
    "x = init.uniform_(torch.Tensor(num_data,1),-10,10)\n",
    "x[:5]"
   ]
  },
  {
   "cell_type": "code",
   "execution_count": 4,
   "metadata": {},
   "outputs": [
    {
     "data": {
      "text/plain": [
       "tensor([[ 0.2795],\n",
       "        [-0.1060],\n",
       "        [-0.3721],\n",
       "        [-0.0958],\n",
       "        [-0.1923]])"
      ]
     },
     "execution_count": 4,
     "metadata": {},
     "output_type": "execute_result"
    }
   ],
   "source": [
    "# 데이터에 추가할 노이즈를 정규분포를 따르게 만들어줍니다. \n",
    "# 이때 평균은 디폴트로 0, 편차는 0.2로 임의로 지정했습니다.\n",
    "noise = init.normal_(torch.FloatTensor(num_data,1),std=0.2)\n",
    "noise[:5]"
   ]
  },
  {
   "cell_type": "code",
   "execution_count": 5,
   "metadata": {},
   "outputs": [],
   "source": [
    "# 연산 그래프를 정의합니다.\n",
    "y = 2*x+3"
   ]
  },
  {
   "cell_type": "code",
   "execution_count": 6,
   "metadata": {},
   "outputs": [],
   "source": [
    "# y에 노이즈를 더해 y_noise를 만들어줍니다. \n",
    "# 학습때 y_noise를 목표값으로 사용합니다.\n",
    "# 이렇게 하는 이유는 실제 데이터를 사용할 때 여러 측정과정에서 노이즈가 추가되는 경우가 많기 때문입니다.\n",
    "y_noise = y+noise"
   ]
  },
  {
   "cell_type": "markdown",
   "metadata": {
    "colab_type": "text",
    "id": "m95kllRxpxgj"
   },
   "source": [
    "## 데이터 시각화"
   ]
  },
  {
   "cell_type": "code",
   "execution_count": 7,
   "metadata": {
    "colab": {
     "base_uri": "https://localhost:8080/",
     "height": 595
    },
    "colab_type": "code",
    "executionInfo": {
     "elapsed": 855,
     "status": "ok",
     "timestamp": 1566739453395,
     "user": {
      "displayName": "Gunho Choi",
      "photoUrl": "https://lh3.googleusercontent.com/a-/AAuE7mBSqM0cFU5ZceEDo5gH8hXfSGh8z5BVTu5HgREceg=s64",
      "userId": "04388737836176863066"
     },
     "user_tz": -540
    },
    "id": "7TqGiPWkMQyk",
    "outputId": "5bf953c3-660c-4306-b197-e5c8485e2555"
   },
   "outputs": [
    {
     "data": {
      "image/png": "[encoded data removed]",
      "text/plain": [
       "<Figure size 360x360 with 1 Axes>"
      ]
     },
     "metadata": {
      "needs_background": "light"
     },
     "output_type": "display_data"
    }
   ],
   "source": [
    "# https://matplotlib.org/3.1.0/api/_as_gen/matplotlib.pyplot.scatter.html\n",
    "# matplotlib의 scatter 함수를 사용해 학습 데이터를 확인합니다.\n",
    "\n",
    "# figure의 크기를 지정해줍니다.\n",
    "plt.figure(figsize=(5,5))\n",
    "\n",
    "# x축에는 x를 사용하고 y축에는 y_noise를 사용해 scatter plot 해줍니다.\n",
    "# 이때 점의 크기(s)는 7, 점의 색상(c)은 빨간색으로 임의로 지정했습니다.\n",
    "plt.scatter(x.numpy(),y_noise.numpy(),s=7,c=\"red\")\n",
    "\n",
    "# figure의 x,y 축 범위를 지정해줍니다.\n",
    "plt.axis([-12, 12, -25, 25])\n",
    "\n",
    "# figure를 출력합니다.\n",
    "plt.show()"
   ]
  },
  {
   "cell_type": "markdown",
   "metadata": {
    "colab_type": "text",
    "id": "vaXA1tx9p1_k"
   },
   "source": [
    "## 모델, 손실함수, 최적화 함수 설정"
   ]
  },
  {
   "cell_type": "code",
   "execution_count": 8,
   "metadata": {
    "colab": {},
    "colab_type": "code",
    "id": "7c2kT4dkMb6B"
   },
   "outputs": [],
   "source": [
    "# 선형 모델을 생성합니다.\n",
    "# 입력으로 들어오는 x가 1000x1 의 형태를 가지고 있고 여기서 특성의 개수는 1개이기 때문에 앞에 1이 들어가게 됩니다. Linear(1,?)\n",
    "# 출력으로 기대하는 값 또한 1000x1 의 형태이기 때문에 특성의 개수가 1개. 그렇기 때문에 뒤에 1이 들어갑니다.      Linear(?,1)\n",
    "model = nn.Linear(1,1) # nn.Linear(입력,출력)"
   ]
  },
  {
   "cell_type": "code",
   "execution_count": 9,
   "metadata": {},
   "outputs": [],
   "source": [
    "# 손실 함수를 지정해줍니다.\n",
    "# 임의로 L1 손실을 사용했습니다.\n",
    "loss_func = nn.L1Loss()"
   ]
  },
  {
   "cell_type": "code",
   "execution_count": 10,
   "metadata": {},
   "outputs": [],
   "source": [
    "# 최적화 함수를 지정해줍니다.\n",
    "# 이때 인수로 학습의 대상이 되는 모델의 변수(model.parameters())를 전달합니다.\n",
    "# 또한 학습률은 0.01로 임의로 지정했습니다.\n",
    "optimizer = optim.SGD(model.parameters(),lr=0.01)"
   ]
  },
  {
   "cell_type": "markdown",
   "metadata": {
    "colab_type": "text",
    "id": "okLqOLTZp7hP"
   },
   "source": [
    "## 모델 학습 및 중간 확인"
   ]
  },
  {
   "cell_type": "code",
   "execution_count": 11,
   "metadata": {},
   "outputs": [],
   "source": [
    "# 손실이 어떻게 변하는지 확인하기 위해 loss_arr를 만들어 기록합니다.\n",
    "loss_arr =[]"
   ]
  },
  {
   "cell_type": "code",
   "execution_count": 12,
   "metadata": {},
   "outputs": [],
   "source": [
    "# 또한 목표값은 y_noise로 지정해줍니다.\n",
    "label = y_noise"
   ]
  },
  {
   "cell_type": "code",
   "execution_count": 13,
   "metadata": {
    "colab": {
     "base_uri": "https://localhost:8080/",
     "height": 1000
    },
    "colab_type": "code",
    "executionInfo": {
     "elapsed": 11591,
     "status": "ok",
     "timestamp": 1566739644935,
     "user": {
      "displayName": "Gunho Choi",
      "photoUrl": "https://lh3.googleusercontent.com/a-/AAuE7mBSqM0cFU5ZceEDo5gH8hXfSGh8z5BVTu5HgREceg=s64",
      "userId": "04388737836176863066"
     },
     "user_tz": -540
    },
    "id": "kJbBMTscMr0n",
    "outputId": "66d72998-f7c3-4fec-ecf2-147a387c8d39",
    "scrolled": true
   },
   "outputs": [
    {
     "data": {
      "image/png": "[encoded data removed]",
      "text/plain": [
       "<Figure size 432x288 with 1 Axes>"
      ]
     },
     "metadata": {
      "needs_background": "light"
     },
     "output_type": "display_data"
    },
    {
     "name": "stdout",
     "output_type": "stream",
     "text": [
      "tensor(7.1344)\n"
     ]
    },
    {
     "data": {
      "image/png": "[encoded data removed]",
      "text/plain": [
       "<Figure size 432x288 with 1 Axes>"
      ]
     },
     "metadata": {
      "needs_background": "light"
     },
     "output_type": "display_data"
    },
    {
     "name": "stdout",
     "output_type": "stream",
     "text": [
      "tensor(2.0641)\n"
     ]
    },
    {
     "data": {
      "image/png": "[encoded data removed]",
      "text/plain": [
       "<Figure size 432x288 with 1 Axes>"
      ]
     },
     "metadata": {
      "needs_background": "light"
     },
     "output_type": "display_data"
    },
    {
     "name": "stdout",
     "output_type": "stream",
     "text": [
      "tensor(1.5502)\n"
     ]
    },
    {
     "data": {
      "image/png": "[encoded data removed]",
      "text/plain": [
       "<Figure size 432x288 with 1 Axes>"
      ]
     },
     "metadata": {
      "needs_background": "light"
     },
     "output_type": "display_data"
    },
    {
     "name": "stdout",
     "output_type": "stream",
     "text": [
      "tensor(1.0372)\n"
     ]
    },
    {
     "data": {
      "image/png": "[encoded data removed]",
      "text/plain": [
       "<Figure size 432x288 with 1 Axes>"
      ]
     },
     "metadata": {
      "needs_background": "light"
     },
     "output_type": "display_data"
    },
    {
     "name": "stdout",
     "output_type": "stream",
     "text": [
      "tensor(0.5407)\n"
     ]
    },
    {
     "data": {
      "image/png": "[encoded data removed]",
      "text/plain": [
       "<Figure size 432x288 with 1 Axes>"
      ]
     },
     "metadata": {
      "needs_background": "light"
     },
     "output_type": "display_data"
    },
    {
     "name": "stdout",
     "output_type": "stream",
     "text": [
      "tensor(0.1975)\n"
     ]
    },
    {
     "data": {
      "image/png": "[encoded data removed]",
      "text/plain": [
       "<Figure size 432x288 with 1 Axes>"
      ]
     },
     "metadata": {
      "needs_background": "light"
     },
     "output_type": "display_data"
    },
    {
     "name": "stdout",
     "output_type": "stream",
     "text": [
      "tensor(0.1614)\n"
     ]
    },
    {
     "data": {
      "image/png": "[encoded data removed]",
      "text/plain": [
       "<Figure size 432x288 with 1 Axes>"
      ]
     },
     "metadata": {
      "needs_background": "light"
     },
     "output_type": "display_data"
    },
    {
     "name": "stdout",
     "output_type": "stream",
     "text": [
      "tensor(0.1608)\n"
     ]
    },
    {
     "data": {
      "image/png": "[encoded data removed]",
      "text/plain": [
       "<Figure size 432x288 with 1 Axes>"
      ]
     },
     "metadata": {
      "needs_background": "light"
     },
     "output_type": "display_data"
    },
    {
     "name": "stdout",
     "output_type": "stream",
     "text": [
      "tensor(0.1608)\n"
     ]
    },
    {
     "data": {
      "image/png": "[encoded data removed]",
      "text/plain": [
       "<Figure size 432x288 with 1 Axes>"
      ]
     },
     "metadata": {
      "needs_background": "light"
     },
     "output_type": "display_data"
    },
    {
     "name": "stdout",
     "output_type": "stream",
     "text": [
      "tensor(0.1608)\n"
     ]
    }
   ],
   "source": [
    "# TRAIN\n",
    "# 500으로 지정했던 학습 횟수만큼 반복합니다.\n",
    "for i in range(num_epoch):\n",
    "  \n",
    "    # 이전 학습의 기울기를 지우고 최적화 함수를 초기화해줍니다.\n",
    "    # 기울기를 지우지 않으면 기존의 업데이트 때문에 학습이 잘 이루어지지 않습니다.\n",
    "    optimizer.zero_grad()\n",
    "    \n",
    "    # 입력값 x를 모델에 넣어 결과값을 얻습니다.\n",
    "    output = model(x)\n",
    "    \n",
    "    # 결과값과 목표값의 차이를 L1 손실 함수로 구해줍니다.\n",
    "    loss = loss_func(output,label)\n",
    "    \n",
    "    # 손실에 대한 기울기를 구합니다.\n",
    "    loss.backward()\n",
    "    \n",
    "    # 구한 기울기를 이용해 모델의 변수를 업데이트 합니다.\n",
    "    optimizer.step()\n",
    "    \n",
    "    # 50 마다 모델의 변수가 어떻게 변하고 있는지 출력해줍니다.\n",
    "    if i % 50 == 0:\n",
    "        # https://pytorch.org/docs/stable/tensors.html?highlight=detach#torch.Tensor.detach\n",
    "        # 현재 연산 그래프에 속해있는 x, output 값을 detach를 통해 분리하고, 텐서를 넘파이 배열로 바꿔서 plt.scatter에 전달합니다.\n",
    "        plt.scatter(x.detach().numpy(),output.detach().numpy())\n",
    "        plt.axis([-10, 10, -30, 30])\n",
    "        plt.show()\n",
    "        print(loss.data)\n",
    "        \n",
    "    # 손실을 loss_arr에 추가해줍니다.\n",
    "    loss_arr.append(loss.detach().numpy())"
   ]
  },
  {
   "cell_type": "markdown",
   "metadata": {
    "colab_type": "text",
    "id": "yydtfhYEqB0e"
   },
   "source": [
    "## 학습 후 데이터와 모델 결과값 확인"
   ]
  },
  {
   "cell_type": "code",
   "execution_count": 14,
   "metadata": {
    "colab": {
     "base_uri": "https://localhost:8080/",
     "height": 867
    },
    "colab_type": "code",
    "executionInfo": {
     "elapsed": 1343,
     "status": "ok",
     "timestamp": 1566739686101,
     "user": {
      "displayName": "Gunho Choi",
      "photoUrl": "https://lh3.googleusercontent.com/a-/AAuE7mBSqM0cFU5ZceEDo5gH8hXfSGh8z5BVTu5HgREceg=s64",
      "userId": "04388737836176863066"
     },
     "user_tz": -540
    },
    "id": "Keizg9-LWQhP",
    "outputId": "2fce19d3-5af4-49a6-bdb3-26c5bebb8ea7"
   },
   "outputs": [
    {
     "data": {
      "image/png": "[encoded data removed]",
      "text/plain": [
       "<Figure size 360x360 with 1 Axes>"
      ]
     },
     "metadata": {
      "needs_background": "light"
     },
     "output_type": "display_data"
    }
   ],
   "source": [
    "plt.figure(figsize=(5,5))\n",
    "plt.scatter(x.numpy(),y_noise.numpy(),s=5,c=\"gray\")\n",
    "plt.scatter(x.detach().numpy(),output.detach().numpy(),s=5,c=\"red\")\n",
    "plt.axis([-10, 10, -30, 30])\n",
    "plt.show()"
   ]
  },
  {
   "cell_type": "markdown",
   "metadata": {
    "colab_type": "text",
    "id": "ERafFOhXPLnw"
   },
   "source": [
    "## 손실 그래프"
   ]
  },
  {
   "cell_type": "code",
   "execution_count": 15,
   "metadata": {
    "colab": {
     "base_uri": "https://localhost:8080/",
     "height": 269
    },
    "colab_type": "code",
    "executionInfo": {
     "elapsed": 724,
     "status": "ok",
     "timestamp": 1566739698079,
     "user": {
      "displayName": "Gunho Choi",
      "photoUrl": "https://lh3.googleusercontent.com/a-/AAuE7mBSqM0cFU5ZceEDo5gH8hXfSGh8z5BVTu5HgREceg=s64",
      "userId": "04388737836176863066"
     },
     "user_tz": -540
    },
    "id": "xpd3fxK0Mvt6",
    "outputId": "d6858637-02a1-461e-9039-641ee197faa4"
   },
   "outputs": [
    {
     "data": {
      "image/png": "[encoded data removed]",
      "text/plain": [
       "<Figure size 432x288 with 1 Axes>"
      ]
     },
     "metadata": {
      "needs_background": "light"
     },
     "output_type": "display_data"
    }
   ],
   "source": [
    "# matplotlib의 plot 함수를 이용해 손실이 어떻게 줄어가는지 확인합니다. \n",
    "plt.plot(loss_arr)\n",
    "plt.show()"
   ]
  },
  {
   "cell_type": "markdown",
   "metadata": {
    "colab_type": "text",
    "id": "VaieW3joqI9z"
   },
   "source": [
    "## 학습 후 모델 변수 값 확인\n",
    "\n",
    "- 모델이 거의 근사하게 맞춘것을 확인할 수 있다\n",
    "\n",
    "$$y = 2x+3$$"
   ]
  },
  {
   "cell_type": "code",
   "execution_count": 16,
   "metadata": {
    "colab": {
     "base_uri": "https://localhost:8080/",
     "height": 51
    },
    "colab_type": "code",
    "executionInfo": {
     "elapsed": 823,
     "status": "ok",
     "timestamp": 1566739725117,
     "user": {
      "displayName": "Gunho Choi",
      "photoUrl": "https://lh3.googleusercontent.com/a-/AAuE7mBSqM0cFU5ZceEDo5gH8hXfSGh8z5BVTu5HgREceg=s64",
      "userId": "04388737836176863066"
     },
     "user_tz": -540
    },
    "id": "h0FdZBf_NIJX",
    "outputId": "6f543617-5d69-4692-c55a-5ed470bc4504"
   },
   "outputs": [
    {
     "name": "stdout",
     "output_type": "stream",
     "text": [
      "Weight: 1.9982818365097046 \n",
      "Bias:   3.0014121532440186\n"
     ]
    }
   ],
   "source": [
    "# 현재 모델은 weight와 bias을 변수로 가지고 있는데 그 값들이 학습 후 실제 몇인지 수치적으로 확인해봅니다.\n",
    "param_list = list(model.parameters())\n",
    "print(\"Weight:\",param_list[0].item(),\"\\nBias:  \",param_list[1].item())"
   ]
  }
 ],
 "metadata": {
  "colab": {
   "collapsed_sections": [],
   "name": "3.3.2 선형회귀 전체 코드.ipynb",
   "provenance": [],
   "version": "0.3.2"
  },
  "kernelspec": {
   "display_name": "Python 3",
   "language": "python",
   "name": "python3"
  },
  "language_info": {
   "codemirror_mode": {
    "name": "ipython",
    "version": 3
   },
   "file_extension": ".py",
   "mimetype": "text/x-python",
   "name": "python",
   "nbconvert_exporter": "python",
   "pygments_lexer": "ipython3",
   "version": "3.6.9"
  }
 },
 "nbformat": 4,
 "nbformat_minor": 4
}
