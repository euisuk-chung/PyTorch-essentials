{
 "cells": [
  {
   "cell_type": "markdown",
   "metadata": {
    "colab_type": "text",
    "id": "qiVaMkwNSpCx"
   },
   "source": [
    "# 인공신경망 모델의 학습\n",
    "\n",
    "$$y = x^2+3$$"
   ]
  },
  {
   "cell_type": "markdown",
   "metadata": {
    "colab_type": "text",
    "id": "A0eJo_1TsZIw"
   },
   "source": [
    "## 필요한 라이브러리 불러오기"
   ]
  },
  {
   "cell_type": "code",
   "execution_count": 11,
   "metadata": {
    "colab": {},
    "colab_type": "code",
    "id": "gAIfLqxsSmrJ"
   },
   "outputs": [],
   "source": [
    "import torch\n",
    "import torch.nn as nn\n",
    "import torch.optim as optim\n",
    "import torch.nn.init as init"
   ]
  },
  {
   "cell_type": "markdown",
   "metadata": {
    "colab_type": "text",
    "id": "BfXQ4EJ1sR5Y"
   },
   "source": [
    "## 데이터 생성"
   ]
  },
  {
   "cell_type": "code",
   "execution_count": 12,
   "metadata": {
    "colab": {},
    "colab_type": "code",
    "id": "OrRWI9QBsI8U"
   },
   "outputs": [],
   "source": [
    "num_data = 1000\n",
    "num_epoch = 10000\n",
    "\n",
    "noise = init.normal_(torch.FloatTensor(num_data,1),std=0.5)\n",
    "x = init.uniform_(torch.Tensor(num_data,1),-15,15)\n",
    "y = (x**2) + 3 \n",
    "y_noise = y + noise"
   ]
  },
  {
   "cell_type": "markdown",
   "metadata": {
    "colab_type": "text",
    "id": "KTNOAQgwscKV"
   },
   "source": [
    "# 모델, 손실 함수, 최적화 함수 설정\n",
    "\n",
    "- `nn.Sequential` 클래스는 `nn.Linear`, `nn.ReLU` 등의 모듈들을 인수로 받아서 순서대로 정렬 후 입력값이 들어오면 이를 순차적으로 수행하여 결괏값을 리턴합니다"
   ]
  },
  {
   "cell_type": "code",
   "execution_count": 13,
   "metadata": {
    "colab": {},
    "colab_type": "code",
    "id": "FJMeNlCWsJEp"
   },
   "outputs": [],
   "source": [
    "# 3장의 예시처럼 하나의 값이 들어가서 하나의 값이 나오기 때문에 모델의 처음과 끝 특성의 개수는 1개입니다.\n",
    "\n",
    "# https://pytorch.org/docs/stable/nn.html?highlight=sequential\n",
    "# torch.nn.Sequential\n",
    "# Sequential 모듈은 다양한 모듈을 담을 수 있는 일종의 리스트라고 보면 됩니다.\n",
    "# Sequential 에 정의된 순서대로 연산이 진행되며, 많은 연산을 묶어서 한번에 관리할 수 있어서 편리합니다.\n",
    "\n",
    "# 아래 코드는 특성의 개수가 1 -> 6 -> 10 -> 6 -> 1개로 변하는 인공신경망입니다. \n",
    "# 또한 선형변환 이후 활성화 함수를 넣어 비선형성이 생기도록 했습니다.\n",
    "\n",
    "model = nn.Sequential(\n",
    "          nn.Linear(1,6),\n",
    "          nn.ReLU(),\n",
    "          nn.Linear(6,10),\n",
    "          nn.ReLU(),\n",
    "          nn.Linear(10,6),\n",
    "          nn.ReLU(),\n",
    "          nn.Linear(6,1),\n",
    "      )\n",
    "\n",
    "loss_func = nn.L1Loss()\n",
    "optimizer = optim.SGD(model.parameters(),lr=0.0002)"
   ]
  },
  {
   "cell_type": "markdown",
   "metadata": {
    "colab_type": "text",
    "id": "Jsy40xAHsiQZ"
   },
   "source": [
    "## 모델의 학습"
   ]
  },
  {
   "cell_type": "code",
   "execution_count": 14,
   "metadata": {
    "colab": {},
    "colab_type": "code",
    "id": "o0jakOd3sJR4"
   },
   "outputs": [],
   "source": [
    "loss_array = []\n",
    "for i in range(num_epoch):\n",
    "    optimizer.zero_grad()\n",
    "    output = model(x)\n",
    "    \n",
    "    loss = loss_func(output,y_noise)\n",
    "    loss.backward()\n",
    "    optimizer.step()\n",
    "    \n",
    "    loss_array.append(loss)"
   ]
  },
  {
   "cell_type": "markdown",
   "metadata": {
    "colab_type": "text",
    "id": "d_F6SftPSu7v"
   },
   "source": [
    "## 손실 그래프"
   ]
  },
  {
   "cell_type": "code",
   "execution_count": 15,
   "metadata": {
    "colab": {
     "base_uri": "https://localhost:8080/",
     "height": 269
    },
    "colab_type": "code",
    "executionInfo": {
     "elapsed": 910,
     "status": "ok",
     "timestamp": 1566740166215,
     "user": {
      "displayName": "Gunho Choi",
      "photoUrl": "https://lh3.googleusercontent.com/a-/AAuE7mBSqM0cFU5ZceEDo5gH8hXfSGh8z5BVTu5HgREceg=s64",
      "userId": "04388737836176863066"
     },
     "user_tz": -540
    },
    "id": "sU4yuuC4RePA",
    "outputId": "fd4b103e-f158-4fed-ee59-e2bd15e8c357"
   },
   "outputs": [
    {
     "data": {
      "image/png": "[encoded data removed]",
      "text/plain": [
       "<Figure size 1080x360 with 1 Axes>"
      ]
     },
     "metadata": {
      "needs_background": "light"
     },
     "output_type": "display_data"
    }
   ],
   "source": [
    "import matplotlib.pyplot as plt\n",
    "plt.figure(figsize=(15,5))\n",
    "plt.plot(loss_array)\n",
    "plt.show()"
   ]
  },
  {
   "cell_type": "markdown",
   "metadata": {
    "colab_type": "text",
    "id": "VLhQK3fUSyUI"
   },
   "source": [
    "## 학습된 모델의 결과값과 실제 목표값의 비교"
   ]
  },
  {
   "cell_type": "code",
   "execution_count": 16,
   "metadata": {
    "colab": {
     "base_uri": "https://localhost:8080/",
     "height": 595
    },
    "colab_type": "code",
    "executionInfo": {
     "elapsed": 893,
     "status": "ok",
     "timestamp": 1566740189648,
     "user": {
      "displayName": "Gunho Choi",
      "photoUrl": "https://lh3.googleusercontent.com/a-/AAuE7mBSqM0cFU5ZceEDo5gH8hXfSGh8z5BVTu5HgREceg=s64",
      "userId": "04388737836176863066"
     },
     "user_tz": -540
    },
    "id": "DSd6l2zQRjGG",
    "outputId": "5b81f300-1303-4450-de7d-aea705854500"
   },
   "outputs": [
    {
     "data": {
      "image/png": "[encoded data removed]",
      "text/plain": [
       "<Figure size 360x360 with 1 Axes>"
      ]
     },
     "metadata": {
      "needs_background": "light"
     },
     "output_type": "display_data"
    }
   ],
   "source": [
    "plt.figure(figsize=(5,5))\n",
    "plt.scatter(x.detach().numpy(),y_noise,label=\"Original Data\")\n",
    "plt.scatter(x.detach().numpy(),output.detach().numpy(),label=\"Model Output\")\n",
    "plt.legend()\n",
    "plt.show()"
   ]
  },
  {
   "cell_type": "code",
   "execution_count": null,
   "metadata": {
    "colab": {},
    "colab_type": "code",
    "id": "PpjrdBz6_g3-"
   },
   "outputs": [],
   "source": []
  }
 ],
 "metadata": {
  "colab": {
   "collapsed_sections": [],
   "name": "4.4 인공신경망 실습.ipynb",
   "provenance": [],
   "version": "0.3.2"
  },
  "kernelspec": {
   "display_name": "Python 3",
   "language": "python",
   "name": "python3"
  },
  "language_info": {
   "codemirror_mode": {
    "name": "ipython",
    "version": 3
   },
   "file_extension": ".py",
   "mimetype": "text/x-python",
   "name": "python",
   "nbconvert_exporter": "python",
   "pygments_lexer": "ipython3",
   "version": "3.6.9"
  }
 },
 "nbformat": 4,
 "nbformat_minor": 4
}
