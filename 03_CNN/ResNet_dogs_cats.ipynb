{
 "cells": [
  {
   "cell_type": "markdown",
   "metadata": {
    "colab_type": "text",
    "id": "uYEoda25h6UK"
   },
   "source": [
    "# Residual Networks\n",
    "\n",
    "- 앞선 네트워크에서 설명한 부분은 생략했습니다.\n",
    "- 2015 ILSVRC 1st place\n",
    "- ResNet-50\n",
    "\n",
    "![alt text](https://www.codeproject.com/KB/AI/1248963/resnet.png)\n"
   ]
  },
  {
   "cell_type": "code",
   "execution_count": 1,
   "metadata": {
    "colab": {
     "base_uri": "https://localhost:8080/",
     "height": 153
    },
    "colab_type": "code",
    "executionInfo": {
     "elapsed": 7492,
     "status": "ok",
     "timestamp": 1566827782548,
     "user": {
      "displayName": "Gunho Choi",
      "photoUrl": "https://lh3.googleusercontent.com/a-/AAuE7mBSqM0cFU5ZceEDo5gH8hXfSGh8z5BVTu5HgREceg=s64",
      "userId": "04388737836176863066"
     },
     "user_tz": -540
    },
    "id": "jZHiDXM0iOPa",
    "outputId": "ca94cf55-f0be-4137-f9f7-ddd27d6db9f1"
   },
   "outputs": [
    {
     "name": "stdout",
     "output_type": "stream",
     "text": [
      "Requirement already satisfied: torch in /usr/local/lib/python3.6/dist-packages (1.10.0)\n",
      "Requirement already satisfied: torchvision in /usr/local/lib/python3.6/dist-packages (0.11.1)\n",
      "Requirement already satisfied: typing-extensions in /usr/local/lib/python3.6/dist-packages (from torch) (3.10.0.2)\n",
      "Requirement already satisfied: dataclasses in /usr/local/lib/python3.6/dist-packages (from torch) (0.8)\n",
      "Requirement already satisfied: pillow!=8.3.0,>=5.3.0 in /usr/local/lib/python3.6/dist-packages (from torchvision) (8.4.0)\n",
      "Requirement already satisfied: numpy in /usr/local/lib/python3.6/dist-packages (from torchvision) (1.19.5)\n",
      "\u001b[33mWARNING: Running pip as the 'root' user can result in broken permissions and conflicting behaviour with the system package manager. It is recommended to use a virtual environment instead: https://pip.pypa.io/warnings/venv\u001b[0m\n",
      "Collecting pillow==4.1.1\n",
      "  Using cached Pillow-4.1.1-cp36-cp36m-manylinux1_x86_64.whl (5.7 MB)\n",
      "Requirement already satisfied: olefile in /usr/local/lib/python3.6/dist-packages (from pillow==4.1.1) (0.46)\n",
      "Installing collected packages: pillow\n",
      "  Attempting uninstall: pillow\n",
      "    Found existing installation: Pillow 8.4.0\n",
      "    Uninstalling Pillow-8.4.0:\n",
      "      Successfully uninstalled Pillow-8.4.0\n",
      "\u001b[31mERROR: pip's dependency resolver does not currently take into account all the packages that are installed. This behaviour is the source of the following dependency conflicts.\n",
      "torchvision 0.11.1 requires pillow!=8.3.0,>=5.3.0, but you have pillow 4.1.1 which is incompatible.\n",
      "matplotlib 3.3.4 requires pillow>=6.2.0, but you have pillow 4.1.1 which is incompatible.\u001b[0m\n",
      "Successfully installed pillow-4.1.1\n",
      "\u001b[33mWARNING: Running pip as the 'root' user can result in broken permissions and conflicting behaviour with the system package manager. It is recommended to use a virtual environment instead: https://pip.pypa.io/warnings/venv\u001b[0m\n"
     ]
    }
   ],
   "source": [
    "# 런타임 유형 GPU 모드로 변경\n",
    "!pip install torch torchvision\n",
    "\n",
    "!pip install pillow==4.1.1\n",
    "%reload_ext autoreload\n",
    "%autoreload"
   ]
  },
  {
   "cell_type": "code",
   "execution_count": 2,
   "metadata": {
    "colab": {
     "base_uri": "https://localhost:8080/",
     "height": 765
    },
    "colab_type": "code",
    "executionInfo": {
     "elapsed": 14602,
     "status": "ok",
     "timestamp": 1566827804669,
     "user": {
      "displayName": "Gunho Choi",
      "photoUrl": "https://lh3.googleusercontent.com/a-/AAuE7mBSqM0cFU5ZceEDo5gH8hXfSGh8z5BVTu5HgREceg=s64",
      "userId": "04388737836176863066"
     },
     "user_tz": -540
    },
    "id": "OKtJXZk5iRvT",
    "outputId": "c69cbab4-c09b-4a0a-b91d-676be78d4dcc"
   },
   "outputs": [],
   "source": [
    "# !rm -r images\n",
    "\n",
    "# import os \n",
    "\n",
    "# # 이미지 파일을 저장할 폴더를 생성합니다.\n",
    "# try:\n",
    "#   os.mkdir(\"../Data/images\")\n",
    "#   os.mkdir(\"../Data/images/dogs\")\n",
    "#   os.mkdir(\"../Data/images/cats\")\n",
    "# except:\n",
    "#   pass\n",
    "\n",
    "# # 이미지들을 지정한 위치에 다운로드합니다.\n",
    "# # images/dogs 밑에 2개\n",
    "# !wget https://i.kinja-img.com/gawker-media/image/upload/s--WFkXeene--/c_scale,f_auto,fl_progressive,q_80,w_800/ol9ceoqxidudap8owlwn.jpg -P ../Data/images/dogs\n",
    "# !wget https://www.rspcansw.org.au/wp-content/uploads/2017/08/50_a-feature_dogs-and-puppies_mobile.jpg -P ../Data/images/dogs\n",
    "\n",
    "# # images/cats 밑에 2개\n",
    "# !wget https://www.catster.com/wp-content/uploads/2018/05/A-gray-cat-crying-looking-upset.jpg -P ../Data/images/cats\n",
    "# !wget https://www.scarymommy.com/wp-content/uploads/2018/01/c1.jpg?w=700 -P ../Data/images/cats"
   ]
  },
  {
   "cell_type": "markdown",
   "metadata": {
    "colab_type": "text",
    "id": "RgQsBb2Ah6UL"
   },
   "source": [
    "## 1. Settings\n",
    "### 1) Import required libraries"
   ]
  },
  {
   "cell_type": "code",
   "execution_count": 3,
   "metadata": {
    "colab": {},
    "colab_type": "code",
    "id": "O2Zl8jNzh6UM"
   },
   "outputs": [],
   "source": [
    "import numpy as np\n",
    "import torch\n",
    "import torch.nn as nn\n",
    "import torch.optim as optim\n",
    "import torch.nn.init as init\n",
    "import torch.utils.data as data\n",
    "import torchvision.datasets as dset\n",
    "import torchvision.transforms as transforms\n",
    "from torch.utils.data import DataLoader\n",
    "\n",
    "from tqdm.auto import trange"
   ]
  },
  {
   "cell_type": "markdown",
   "metadata": {
    "colab_type": "text",
    "id": "1rMvBvxNh6UP"
   },
   "source": [
    "### 2) Hyperparameter"
   ]
  },
  {
   "cell_type": "code",
   "execution_count": 4,
   "metadata": {
    "colab": {},
    "colab_type": "code",
    "id": "PgRtVCskh6UQ"
   },
   "outputs": [],
   "source": [
    "batch_size= 50\n",
    "learning_rate = 0.0001\n",
    "num_epoch = 100"
   ]
  },
  {
   "cell_type": "markdown",
   "metadata": {
    "colab_type": "text",
    "id": "Ih_uqbrNh6US"
   },
   "source": [
    "## 2. Data Loader"
   ]
  },
  {
   "cell_type": "code",
   "execution_count": 5,
   "metadata": {
    "colab": {},
    "colab_type": "code",
    "id": "OyLiekSlh6UT"
   },
   "outputs": [],
   "source": [
    "img_dir = \"../Data/images\"\n",
    "img_data = dset.ImageFolder(img_dir, transforms.Compose([\n",
    "                                      transforms.Resize(256),                   \n",
    "                                      transforms.RandomResizedCrop(224),        \n",
    "                                      transforms.RandomHorizontalFlip(),        \n",
    "                                      transforms.ToTensor(),                    \n",
    "            ]))\n",
    "\n",
    "train_loader = data.DataLoader(img_data, batch_size=batch_size,\n",
    "                            shuffle=True, drop_last=True, num_workers=2)"
   ]
  },
  {
   "cell_type": "markdown",
   "metadata": {
    "colab_type": "text",
    "id": "8DArnCQsh6UV"
   },
   "source": [
    "## 3. Model \n",
    "### 1) Basic Block\n",
    "\n",
    "- 컨볼루션 연산과 활성화함수는 항상 붙어 있기 때문에 이를 함수로 만들었습니다."
   ]
  },
  {
   "cell_type": "code",
   "execution_count": 6,
   "metadata": {
    "colab": {},
    "colab_type": "code",
    "id": "XGD1pVFbh6UV"
   },
   "outputs": [],
   "source": [
    "def conv_block_1(in_dim,out_dim,act_fn,stride=1):\n",
    "    model = nn.Sequential(\n",
    "        nn.Conv2d(in_dim,out_dim, kernel_size=1, stride=stride),\n",
    "        act_fn,\n",
    "    )\n",
    "    return model\n",
    "\n",
    "\n",
    "def conv_block_3(in_dim,out_dim,act_fn):\n",
    "    model = nn.Sequential(\n",
    "        nn.Conv2d(in_dim,out_dim, kernel_size=3, stride=1, padding=1),\n",
    "        act_fn,\n",
    "    )\n",
    "    return model"
   ]
  },
  {
   "cell_type": "markdown",
   "metadata": {
    "colab_type": "text",
    "id": "xBVXy532h6UX"
   },
   "source": [
    "### 2) Bottle Neck Module\n",
    "- Bottle Neck 모듈은 [1x1 컨볼루션 -> 3x3 컨볼루션 -> 1x1 컨볼루션]으로 이루어집니다.\n",
    "- 맨 위에 네트워크 구조에서도 볼 수 있듯이 실선은 크기가 변하지 않는 경우, 점선은 크기가 줄어드는 경우입니다. \n",
    "- 이를 한번에 구현하기 위해 down이라는 변수로 크기 감소 여부를 표시하고 조건문으로 경우의 수를 나눠 구현했습니다.\n",
    "- 또한 ResNet의 Skip-connection은 단순 더하기로 정의되어 있기 때문에 특성지도의 크기를 일치시켜야 합니다. \n",
    "- 이를 위해 차원을 맞춰주는 역할로 dim_equalizer라는 것을 정의했습니다."
   ]
  },
  {
   "cell_type": "code",
   "execution_count": 7,
   "metadata": {
    "colab": {},
    "colab_type": "code",
    "id": "oGmxNdtwh6UY"
   },
   "outputs": [],
   "source": [
    "class BottleNeck(nn.Module):\n",
    "    def __init__(self,in_dim,mid_dim,out_dim,act_fn,down=False):\n",
    "        super(BottleNeck,self).__init__()\n",
    "        self.down=down\n",
    "        \n",
    "        # 특성지도의 크기가 감소하는 경우\n",
    "        if self.down:\n",
    "            self.layer = nn.Sequential(\n",
    "              conv_block_1(in_dim,mid_dim,act_fn,2),\n",
    "              conv_block_3(mid_dim,mid_dim,act_fn),\n",
    "              conv_block_1(mid_dim,out_dim,act_fn),\n",
    "            )\n",
    "            self.downsample = nn.Conv2d(in_dim,out_dim,1,2)\n",
    "            \n",
    "        # 특성지도의 크기가 그대로인 경우\n",
    "        else:\n",
    "            self.layer = nn.Sequential(\n",
    "                conv_block_1(in_dim,mid_dim,act_fn),\n",
    "                conv_block_3(mid_dim,mid_dim,act_fn),\n",
    "                conv_block_1(mid_dim,out_dim,act_fn),\n",
    "            )\n",
    "            \n",
    "        # 더하기를 위해 차원을 맞춰주는 부분\n",
    "        self.dim_equalizer = nn.Conv2d(in_dim,out_dim,kernel_size=1)\n",
    "                  \n",
    "    def forward(self,x):\n",
    "        if self.down:\n",
    "            downsample = self.downsample(x)\n",
    "            out = self.layer(x)\n",
    "            out = out + downsample\n",
    "        else:\n",
    "            out = self.layer(x)\n",
    "            if x.size() is not out.size():\n",
    "                x = self.dim_equalizer(x)\n",
    "            out = out + x\n",
    "        return out\n"
   ]
  },
  {
   "cell_type": "markdown",
   "metadata": {
    "colab_type": "text",
    "id": "VQz7fV7sh6UZ"
   },
   "source": [
    "### 2) ResNet Model"
   ]
  },
  {
   "cell_type": "code",
   "execution_count": 8,
   "metadata": {
    "colab": {},
    "colab_type": "code",
    "id": "raEFPjZ9h6Ua",
    "scrolled": true
   },
   "outputs": [],
   "source": [
    "class ResNet(nn.Module):\n",
    "\n",
    "    def __init__(self, base_dim, num_classes=2):\n",
    "        super(ResNet, self).__init__()\n",
    "        self.act_fn = nn.ReLU()\n",
    "        self.layer_1 = nn.Sequential(\n",
    "            nn.Conv2d(3,base_dim,7,2,3),\n",
    "            nn.ReLU(),\n",
    "            nn.MaxPool2d(3,2,1),\n",
    "        )\n",
    "        self.layer_2 = nn.Sequential(\n",
    "            BottleNeck(base_dim,base_dim,base_dim*4,self.act_fn),\n",
    "            BottleNeck(base_dim*4,base_dim,base_dim*4,self.act_fn),\n",
    "            BottleNeck(base_dim*4,base_dim,base_dim*4,self.act_fn,down=True),\n",
    "        )   \n",
    "        self.layer_3 = nn.Sequential(\n",
    "            BottleNeck(base_dim*4,base_dim*2,base_dim*8,self.act_fn),\n",
    "            BottleNeck(base_dim*8,base_dim*2,base_dim*8,self.act_fn),\n",
    "            BottleNeck(base_dim*8,base_dim*2,base_dim*8,self.act_fn),\n",
    "            BottleNeck(base_dim*8,base_dim*2,base_dim*8,self.act_fn,down=True),\n",
    "        )\n",
    "        self.layer_4 = nn.Sequential(\n",
    "            BottleNeck(base_dim*8,base_dim*4,base_dim*16,self.act_fn),\n",
    "            BottleNeck(base_dim*16,base_dim*4,base_dim*16,self.act_fn),\n",
    "            BottleNeck(base_dim*16,base_dim*4,base_dim*16,self.act_fn),            \n",
    "            BottleNeck(base_dim*16,base_dim*4,base_dim*16,self.act_fn),\n",
    "            BottleNeck(base_dim*16,base_dim*4,base_dim*16,self.act_fn),\n",
    "            BottleNeck(base_dim*16,base_dim*4,base_dim*16,self.act_fn,down=True),\n",
    "        )\n",
    "        self.layer_5 = nn.Sequential(\n",
    "            BottleNeck(base_dim*16,base_dim*8,base_dim*32,self.act_fn),\n",
    "            BottleNeck(base_dim*32,base_dim*8,base_dim*32,self.act_fn),\n",
    "            BottleNeck(base_dim*32,base_dim*8,base_dim*32,self.act_fn),\n",
    "        )\n",
    "        self.avgpool = nn.AvgPool2d(7,1) \n",
    "        self.fc_layer = nn.Linear(base_dim*32,num_classes)\n",
    "        \n",
    "    def forward(self, x):\n",
    "        out = self.layer_1(x)\n",
    "        out = self.layer_2(out)\n",
    "        out = self.layer_3(out)\n",
    "        out = self.layer_4(out)\n",
    "        out = self.layer_5(out)\n",
    "        out = self.avgpool(out)\n",
    "        out = out.view(batch_size,-1)\n",
    "        out = self.fc_layer(out)\n",
    "        \n",
    "        return out\n"
   ]
  },
  {
   "cell_type": "markdown",
   "metadata": {
    "colab_type": "text",
    "id": "l-QPov_mh6Ue"
   },
   "source": [
    "## 4. Optimizer & Loss"
   ]
  },
  {
   "cell_type": "code",
   "execution_count": 9,
   "metadata": {
    "colab": {
     "base_uri": "https://localhost:8080/",
     "height": 34
    },
    "colab_type": "code",
    "executionInfo": {
     "elapsed": 1357,
     "status": "ok",
     "timestamp": 1566828186521,
     "user": {
      "displayName": "Gunho Choi",
      "photoUrl": "https://lh3.googleusercontent.com/a-/AAuE7mBSqM0cFU5ZceEDo5gH8hXfSGh8z5BVTu5HgREceg=s64",
      "userId": "04388737836176863066"
     },
     "user_tz": -540
    },
    "id": "SBLw0OSth6Uf",
    "outputId": "288e6c3c-4e6f-4a21-ac2f-e13acb01bb6f"
   },
   "outputs": [
    {
     "name": "stdout",
     "output_type": "stream",
     "text": [
      "cuda:0\n"
     ]
    }
   ],
   "source": [
    "device = torch.device(\"cuda:0\" if torch.cuda.is_available() else \"cpu\")\n",
    "print(device)\n",
    "    \n",
    "model = ResNet(base_dim=64).to(device)\n",
    "\n",
    "'''\n",
    "for i in model.children():\n",
    "    print(i)\n",
    "'''\n",
    "\n",
    "loss_func = nn.CrossEntropyLoss()\n",
    "optimizer = optim.Adam(model.parameters(),lr=learning_rate)"
   ]
  },
  {
   "cell_type": "markdown",
   "metadata": {
    "colab_type": "text",
    "id": "VZHDWV01h6Ui"
   },
   "source": [
    "## 5. Train"
   ]
  },
  {
   "cell_type": "code",
   "execution_count": 10,
   "metadata": {
    "colab": {
     "base_uri": "https://localhost:8080/",
     "height": 187
    },
    "colab_type": "code",
    "executionInfo": {
     "elapsed": 40925,
     "status": "ok",
     "timestamp": 1566828243059,
     "user": {
      "displayName": "Gunho Choi",
      "photoUrl": "https://lh3.googleusercontent.com/a-/AAuE7mBSqM0cFU5ZceEDo5gH8hXfSGh8z5BVTu5HgREceg=s64",
      "userId": "04388737836176863066"
     },
     "user_tz": -540
    },
    "id": "5QTWZkyLh6Ui",
    "outputId": "111ea3e3-9a47-4254-8d06-1ee9f998e289"
   },
   "outputs": [
    {
     "data": {
      "application/vnd.jupyter.widget-view+json": {
       "model_id": "fe93ffbb16c949c88bc08a1408c1dc43",
       "version_major": 2,
       "version_minor": 0
      },
      "text/plain": [
       "HBox(children=(FloatProgress(value=0.0), HTML(value='')))"
      ]
     },
     "metadata": {},
     "output_type": "display_data"
    },
    {
     "name": "stdout",
     "output_type": "stream",
     "text": [
      "tensor(0.6928, device='cuda:0', grad_fn=<NllLossBackward0>)\n",
      "tensor(0.6942, device='cuda:0', grad_fn=<NllLossBackward0>)\n",
      "tensor(0.6926, device='cuda:0', grad_fn=<NllLossBackward0>)\n",
      "tensor(0.6938, device='cuda:0', grad_fn=<NllLossBackward0>)\n",
      "tensor(0.7005, device='cuda:0', grad_fn=<NllLossBackward0>)\n",
      "tensor(0.6932, device='cuda:0', grad_fn=<NllLossBackward0>)\n",
      "tensor(0.6939, device='cuda:0', grad_fn=<NllLossBackward0>)\n",
      "tensor(0.6927, device='cuda:0', grad_fn=<NllLossBackward0>)\n",
      "tensor(0.6949, device='cuda:0', grad_fn=<NllLossBackward0>)\n",
      "tensor(0.7000, device='cuda:0', grad_fn=<NllLossBackward0>)\n",
      "\n"
     ]
    }
   ],
   "source": [
    "loss_arr = []\n",
    "for i in trange(num_epoch):\n",
    "    for j,[image,label] in enumerate(train_loader):\n",
    "        x = image.to(device)\n",
    "        y_= label.to(device)\n",
    "        \n",
    "        optimizer.zero_grad()\n",
    "        output = model.forward(x)\n",
    "        loss = loss_func(output,y_)\n",
    "        loss.backward()\n",
    "        optimizer.step()\n",
    "\n",
    "    if i % 10 ==0:\n",
    "        print(loss)\n",
    "        loss_arr.append(loss.cpu().detach().numpy())"
   ]
  },
  {
   "cell_type": "code",
   "execution_count": 12,
   "metadata": {
    "colab": {},
    "colab_type": "code",
    "id": "p33BQK1niuun"
   },
   "outputs": [
    {
     "data": {
      "image/png": "[encoded data removed]",
      "text/plain": [
       "<Figure size 432x288 with 1 Axes>"
      ]
     },
     "metadata": {
      "needs_background": "light"
     },
     "output_type": "display_data"
    }
   ],
   "source": [
    "import matplotlib.pyplot as plt\n",
    "\n",
    "plt.plot(loss_arr)\n",
    "plt.show()"
   ]
  },
  {
   "cell_type": "code",
   "execution_count": null,
   "metadata": {},
   "outputs": [],
   "source": []
  }
 ],
 "metadata": {
  "accelerator": "GPU",
  "colab": {
   "collapsed_sections": [],
   "name": "5.7.3 ResNet.ipynb",
   "provenance": [],
   "version": "0.3.2"
  },
  "kernelspec": {
   "display_name": "Python 3",
   "language": "python",
   "name": "python3"
  },
  "language_info": {
   "codemirror_mode": {
    "name": "ipython",
    "version": 3
   },
   "file_extension": ".py",
   "mimetype": "text/x-python",
   "name": "python",
   "nbconvert_exporter": "python",
   "pygments_lexer": "ipython3",
   "version": "3.6.9"
  }
 },
 "nbformat": 4,
 "nbformat_minor": 4
}
